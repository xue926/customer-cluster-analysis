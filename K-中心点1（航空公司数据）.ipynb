{
 "cells": [
  {
   "cell_type": "code",
   "execution_count": 2,
   "metadata": {},
   "outputs": [],
   "source": [
    "import math\n",
    "import random\n",
    "from sklearn import datasets\n",
    "import numpy as np\n",
    "from mpl_toolkits.mplot3d import Axes3D\n",
    "import matplotlib.pyplot as plt\n",
    "import pandas as pd\n",
    "import seaborn as sns\n",
    "%matplotlib inline\n",
    "plt.rc('font', family='SimHei')"
   ]
  },
  {
   "cell_type": "markdown",
   "metadata": {},
   "source": [
    "### 1. 数据读取与展示"
   ]
  },
  {
   "cell_type": "code",
   "execution_count": 3,
   "metadata": {
    "scrolled": true
   },
   "outputs": [
    {
     "data": {
      "text/html": [
       "<div>\n",
       "<style scoped>\n",
       "    .dataframe tbody tr th:only-of-type {\n",
       "        vertical-align: middle;\n",
       "    }\n",
       "\n",
       "    .dataframe tbody tr th {\n",
       "        vertical-align: top;\n",
       "    }\n",
       "\n",
       "    .dataframe thead th {\n",
       "        text-align: right;\n",
       "    }\n",
       "</style>\n",
       "<table border=\"1\" class=\"dataframe\">\n",
       "  <thead>\n",
       "    <tr style=\"text-align: right;\">\n",
       "      <th></th>\n",
       "      <th>MEMBER_NO</th>\n",
       "      <th>FFP_DATE</th>\n",
       "      <th>FIRST_FLIGHT_DATE</th>\n",
       "      <th>GENDER</th>\n",
       "      <th>FFP_TIER</th>\n",
       "      <th>WORK_CITY</th>\n",
       "      <th>WORK_PROVINCE</th>\n",
       "      <th>WORK_COUNTRY</th>\n",
       "      <th>AGE</th>\n",
       "      <th>LOAD_TIME</th>\n",
       "      <th>...</th>\n",
       "      <th>ADD_Point_SUM</th>\n",
       "      <th>Eli_Add_Point_Sum</th>\n",
       "      <th>L1Y_ELi_Add_Points</th>\n",
       "      <th>Points_Sum</th>\n",
       "      <th>L1Y_Points_Sum</th>\n",
       "      <th>Ration_L1Y_Flight_Count</th>\n",
       "      <th>Ration_P1Y_Flight_Count</th>\n",
       "      <th>Ration_P1Y_BPS</th>\n",
       "      <th>Ration_L1Y_BPS</th>\n",
       "      <th>Point_NotFlight</th>\n",
       "    </tr>\n",
       "  </thead>\n",
       "  <tbody>\n",
       "    <tr>\n",
       "      <th>0</th>\n",
       "      <td>54993</td>\n",
       "      <td>2006/11/2</td>\n",
       "      <td>2008/12/24</td>\n",
       "      <td>男</td>\n",
       "      <td>6</td>\n",
       "      <td>.</td>\n",
       "      <td>北京</td>\n",
       "      <td>CN</td>\n",
       "      <td>31.0</td>\n",
       "      <td>2014/3/31</td>\n",
       "      <td>...</td>\n",
       "      <td>39992</td>\n",
       "      <td>114452</td>\n",
       "      <td>111100</td>\n",
       "      <td>619760</td>\n",
       "      <td>370211</td>\n",
       "      <td>0.509524</td>\n",
       "      <td>0.490476</td>\n",
       "      <td>0.487221</td>\n",
       "      <td>0.512777</td>\n",
       "      <td>50</td>\n",
       "    </tr>\n",
       "    <tr>\n",
       "      <th>1</th>\n",
       "      <td>28065</td>\n",
       "      <td>2007/2/19</td>\n",
       "      <td>2007/8/3</td>\n",
       "      <td>男</td>\n",
       "      <td>6</td>\n",
       "      <td>NaN</td>\n",
       "      <td>北京</td>\n",
       "      <td>CN</td>\n",
       "      <td>42.0</td>\n",
       "      <td>2014/3/31</td>\n",
       "      <td>...</td>\n",
       "      <td>12000</td>\n",
       "      <td>53288</td>\n",
       "      <td>53288</td>\n",
       "      <td>415768</td>\n",
       "      <td>238410</td>\n",
       "      <td>0.514286</td>\n",
       "      <td>0.485714</td>\n",
       "      <td>0.489289</td>\n",
       "      <td>0.510708</td>\n",
       "      <td>33</td>\n",
       "    </tr>\n",
       "    <tr>\n",
       "      <th>2</th>\n",
       "      <td>55106</td>\n",
       "      <td>2007/2/1</td>\n",
       "      <td>2007/8/30</td>\n",
       "      <td>男</td>\n",
       "      <td>6</td>\n",
       "      <td>.</td>\n",
       "      <td>北京</td>\n",
       "      <td>CN</td>\n",
       "      <td>40.0</td>\n",
       "      <td>2014/3/31</td>\n",
       "      <td>...</td>\n",
       "      <td>15491</td>\n",
       "      <td>55202</td>\n",
       "      <td>51711</td>\n",
       "      <td>406361</td>\n",
       "      <td>233798</td>\n",
       "      <td>0.518519</td>\n",
       "      <td>0.481481</td>\n",
       "      <td>0.481467</td>\n",
       "      <td>0.518530</td>\n",
       "      <td>26</td>\n",
       "    </tr>\n",
       "    <tr>\n",
       "      <th>3</th>\n",
       "      <td>21189</td>\n",
       "      <td>2008/8/22</td>\n",
       "      <td>2008/8/23</td>\n",
       "      <td>男</td>\n",
       "      <td>5</td>\n",
       "      <td>Los Angeles</td>\n",
       "      <td>CA</td>\n",
       "      <td>US</td>\n",
       "      <td>64.0</td>\n",
       "      <td>2014/3/31</td>\n",
       "      <td>...</td>\n",
       "      <td>0</td>\n",
       "      <td>34890</td>\n",
       "      <td>34890</td>\n",
       "      <td>372204</td>\n",
       "      <td>186100</td>\n",
       "      <td>0.434783</td>\n",
       "      <td>0.565217</td>\n",
       "      <td>0.551722</td>\n",
       "      <td>0.448275</td>\n",
       "      <td>12</td>\n",
       "    </tr>\n",
       "    <tr>\n",
       "      <th>4</th>\n",
       "      <td>39546</td>\n",
       "      <td>2009/4/10</td>\n",
       "      <td>2009/4/15</td>\n",
       "      <td>男</td>\n",
       "      <td>6</td>\n",
       "      <td>贵阳</td>\n",
       "      <td>贵州</td>\n",
       "      <td>CN</td>\n",
       "      <td>48.0</td>\n",
       "      <td>2014/3/31</td>\n",
       "      <td>...</td>\n",
       "      <td>22704</td>\n",
       "      <td>64969</td>\n",
       "      <td>64969</td>\n",
       "      <td>338813</td>\n",
       "      <td>210365</td>\n",
       "      <td>0.532895</td>\n",
       "      <td>0.467105</td>\n",
       "      <td>0.469054</td>\n",
       "      <td>0.530943</td>\n",
       "      <td>39</td>\n",
       "    </tr>\n",
       "    <tr>\n",
       "      <th>...</th>\n",
       "      <td>...</td>\n",
       "      <td>...</td>\n",
       "      <td>...</td>\n",
       "      <td>...</td>\n",
       "      <td>...</td>\n",
       "      <td>...</td>\n",
       "      <td>...</td>\n",
       "      <td>...</td>\n",
       "      <td>...</td>\n",
       "      <td>...</td>\n",
       "      <td>...</td>\n",
       "      <td>...</td>\n",
       "      <td>...</td>\n",
       "      <td>...</td>\n",
       "      <td>...</td>\n",
       "      <td>...</td>\n",
       "      <td>...</td>\n",
       "      <td>...</td>\n",
       "      <td>...</td>\n",
       "      <td>...</td>\n",
       "      <td>...</td>\n",
       "    </tr>\n",
       "    <tr>\n",
       "      <th>62983</th>\n",
       "      <td>18375</td>\n",
       "      <td>2011/5/20</td>\n",
       "      <td>2013/6/5</td>\n",
       "      <td>女</td>\n",
       "      <td>4</td>\n",
       "      <td>广州</td>\n",
       "      <td>广东</td>\n",
       "      <td>CN</td>\n",
       "      <td>25.0</td>\n",
       "      <td>2014/3/31</td>\n",
       "      <td>...</td>\n",
       "      <td>12318</td>\n",
       "      <td>12318</td>\n",
       "      <td>12123</td>\n",
       "      <td>12318</td>\n",
       "      <td>12123</td>\n",
       "      <td>1.000000</td>\n",
       "      <td>0.000000</td>\n",
       "      <td>0.000000</td>\n",
       "      <td>0.000000</td>\n",
       "      <td>22</td>\n",
       "    </tr>\n",
       "    <tr>\n",
       "      <th>62984</th>\n",
       "      <td>36041</td>\n",
       "      <td>2010/3/8</td>\n",
       "      <td>2013/9/14</td>\n",
       "      <td>男</td>\n",
       "      <td>4</td>\n",
       "      <td>佛山</td>\n",
       "      <td>广东</td>\n",
       "      <td>CN</td>\n",
       "      <td>38.0</td>\n",
       "      <td>2014/3/31</td>\n",
       "      <td>...</td>\n",
       "      <td>106972</td>\n",
       "      <td>106972</td>\n",
       "      <td>56506</td>\n",
       "      <td>106972</td>\n",
       "      <td>56506</td>\n",
       "      <td>1.000000</td>\n",
       "      <td>0.000000</td>\n",
       "      <td>0.000000</td>\n",
       "      <td>0.000000</td>\n",
       "      <td>43</td>\n",
       "    </tr>\n",
       "    <tr>\n",
       "      <th>62985</th>\n",
       "      <td>45690</td>\n",
       "      <td>2006/3/30</td>\n",
       "      <td>2006/12/2</td>\n",
       "      <td>女</td>\n",
       "      <td>4</td>\n",
       "      <td>广州</td>\n",
       "      <td>广东</td>\n",
       "      <td>CN</td>\n",
       "      <td>43.0</td>\n",
       "      <td>2014/3/31</td>\n",
       "      <td>...</td>\n",
       "      <td>0</td>\n",
       "      <td>0</td>\n",
       "      <td>0</td>\n",
       "      <td>0</td>\n",
       "      <td>0</td>\n",
       "      <td>1.000000</td>\n",
       "      <td>0.000000</td>\n",
       "      <td>0.000000</td>\n",
       "      <td>0.000000</td>\n",
       "      <td>0</td>\n",
       "    </tr>\n",
       "    <tr>\n",
       "      <th>62986</th>\n",
       "      <td>61027</td>\n",
       "      <td>2013/2/6</td>\n",
       "      <td>2013/2/14</td>\n",
       "      <td>女</td>\n",
       "      <td>4</td>\n",
       "      <td>广州</td>\n",
       "      <td>广东</td>\n",
       "      <td>CN</td>\n",
       "      <td>36.0</td>\n",
       "      <td>2014/3/31</td>\n",
       "      <td>...</td>\n",
       "      <td>0</td>\n",
       "      <td>0</td>\n",
       "      <td>0</td>\n",
       "      <td>0</td>\n",
       "      <td>0</td>\n",
       "      <td>0.000000</td>\n",
       "      <td>1.000000</td>\n",
       "      <td>0.000000</td>\n",
       "      <td>0.000000</td>\n",
       "      <td>0</td>\n",
       "    </tr>\n",
       "    <tr>\n",
       "      <th>62987</th>\n",
       "      <td>61340</td>\n",
       "      <td>2013/2/17</td>\n",
       "      <td>2013/2/17</td>\n",
       "      <td>女</td>\n",
       "      <td>4</td>\n",
       "      <td>上海</td>\n",
       "      <td>.</td>\n",
       "      <td>CN</td>\n",
       "      <td>29.0</td>\n",
       "      <td>2014/3/31</td>\n",
       "      <td>...</td>\n",
       "      <td>0</td>\n",
       "      <td>0</td>\n",
       "      <td>0</td>\n",
       "      <td>0</td>\n",
       "      <td>0</td>\n",
       "      <td>0.000000</td>\n",
       "      <td>1.000000</td>\n",
       "      <td>0.000000</td>\n",
       "      <td>0.000000</td>\n",
       "      <td>0</td>\n",
       "    </tr>\n",
       "  </tbody>\n",
       "</table>\n",
       "<p>62988 rows × 44 columns</p>\n",
       "</div>"
      ],
      "text/plain": [
       "       MEMBER_NO   FFP_DATE FIRST_FLIGHT_DATE GENDER  FFP_TIER    WORK_CITY  \\\n",
       "0          54993  2006/11/2        2008/12/24      男         6            .   \n",
       "1          28065  2007/2/19          2007/8/3      男         6          NaN   \n",
       "2          55106   2007/2/1         2007/8/30      男         6            .   \n",
       "3          21189  2008/8/22         2008/8/23      男         5  Los Angeles   \n",
       "4          39546  2009/4/10         2009/4/15      男         6           贵阳   \n",
       "...          ...        ...               ...    ...       ...          ...   \n",
       "62983      18375  2011/5/20          2013/6/5      女         4           广州   \n",
       "62984      36041   2010/3/8         2013/9/14      男         4           佛山   \n",
       "62985      45690  2006/3/30         2006/12/2      女         4           广州   \n",
       "62986      61027   2013/2/6         2013/2/14      女         4           广州   \n",
       "62987      61340  2013/2/17         2013/2/17      女         4           上海   \n",
       "\n",
       "      WORK_PROVINCE WORK_COUNTRY   AGE  LOAD_TIME  ...  ADD_Point_SUM  \\\n",
       "0                北京           CN  31.0  2014/3/31  ...          39992   \n",
       "1                北京           CN  42.0  2014/3/31  ...          12000   \n",
       "2                北京           CN  40.0  2014/3/31  ...          15491   \n",
       "3                CA           US  64.0  2014/3/31  ...              0   \n",
       "4                贵州           CN  48.0  2014/3/31  ...          22704   \n",
       "...             ...          ...   ...        ...  ...            ...   \n",
       "62983            广东           CN  25.0  2014/3/31  ...          12318   \n",
       "62984            广东           CN  38.0  2014/3/31  ...         106972   \n",
       "62985            广东           CN  43.0  2014/3/31  ...              0   \n",
       "62986            广东           CN  36.0  2014/3/31  ...              0   \n",
       "62987             .           CN  29.0  2014/3/31  ...              0   \n",
       "\n",
       "       Eli_Add_Point_Sum  L1Y_ELi_Add_Points  Points_Sum  L1Y_Points_Sum  \\\n",
       "0                 114452              111100      619760          370211   \n",
       "1                  53288               53288      415768          238410   \n",
       "2                  55202               51711      406361          233798   \n",
       "3                  34890               34890      372204          186100   \n",
       "4                  64969               64969      338813          210365   \n",
       "...                  ...                 ...         ...             ...   \n",
       "62983              12318               12123       12318           12123   \n",
       "62984             106972               56506      106972           56506   \n",
       "62985                  0                   0           0               0   \n",
       "62986                  0                   0           0               0   \n",
       "62987                  0                   0           0               0   \n",
       "\n",
       "       Ration_L1Y_Flight_Count  Ration_P1Y_Flight_Count  Ration_P1Y_BPS  \\\n",
       "0                     0.509524                 0.490476        0.487221   \n",
       "1                     0.514286                 0.485714        0.489289   \n",
       "2                     0.518519                 0.481481        0.481467   \n",
       "3                     0.434783                 0.565217        0.551722   \n",
       "4                     0.532895                 0.467105        0.469054   \n",
       "...                        ...                      ...             ...   \n",
       "62983                 1.000000                 0.000000        0.000000   \n",
       "62984                 1.000000                 0.000000        0.000000   \n",
       "62985                 1.000000                 0.000000        0.000000   \n",
       "62986                 0.000000                 1.000000        0.000000   \n",
       "62987                 0.000000                 1.000000        0.000000   \n",
       "\n",
       "      Ration_L1Y_BPS  Point_NotFlight  \n",
       "0           0.512777               50  \n",
       "1           0.510708               33  \n",
       "2           0.518530               26  \n",
       "3           0.448275               12  \n",
       "4           0.530943               39  \n",
       "...              ...              ...  \n",
       "62983       0.000000               22  \n",
       "62984       0.000000               43  \n",
       "62985       0.000000                0  \n",
       "62986       0.000000                0  \n",
       "62987       0.000000                0  \n",
       "\n",
       "[62988 rows x 44 columns]"
      ]
     },
     "execution_count": 3,
     "metadata": {},
     "output_type": "execute_result"
    }
   ],
   "source": [
    "air_data_path='./air_data.csv'\n",
    "air_data=pd.read_csv(air_data_path,encoding='utf-8')#.sample(n=1500)\n",
    "air_data"
   ]
  },
  {
   "cell_type": "code",
   "execution_count": 4,
   "metadata": {},
   "outputs": [
    {
     "name": "stdout",
     "output_type": "stream",
     "text": [
      "<class 'pandas.core.frame.DataFrame'>\n",
      "RangeIndex: 62988 entries, 0 to 62987\n",
      "Data columns (total 44 columns):\n",
      " #   Column                   Non-Null Count  Dtype  \n",
      "---  ------                   --------------  -----  \n",
      " 0   MEMBER_NO                62988 non-null  int64  \n",
      " 1   FFP_DATE                 62988 non-null  object \n",
      " 2   FIRST_FLIGHT_DATE        62988 non-null  object \n",
      " 3   GENDER                   62985 non-null  object \n",
      " 4   FFP_TIER                 62988 non-null  int64  \n",
      " 5   WORK_CITY                60719 non-null  object \n",
      " 6   WORK_PROVINCE            59740 non-null  object \n",
      " 7   WORK_COUNTRY             62962 non-null  object \n",
      " 8   AGE                      62568 non-null  float64\n",
      " 9   LOAD_TIME                62988 non-null  object \n",
      " 10  FLIGHT_COUNT             62988 non-null  int64  \n",
      " 11  BP_SUM                   62988 non-null  int64  \n",
      " 12  EP_SUM_YR_1              62988 non-null  int64  \n",
      " 13  EP_SUM_YR_2              62988 non-null  int64  \n",
      " 14  SUM_YR_1                 62437 non-null  float64\n",
      " 15  SUM_YR_2                 62850 non-null  float64\n",
      " 16  SEG_KM_SUM               62988 non-null  int64  \n",
      " 17  WEIGHTED_SEG_KM          62988 non-null  float64\n",
      " 18  LAST_FLIGHT_DATE         62988 non-null  object \n",
      " 19  AVG_FLIGHT_COUNT         62988 non-null  float64\n",
      " 20  AVG_BP_SUM               62988 non-null  float64\n",
      " 21  BEGIN_TO_FIRST           62988 non-null  int64  \n",
      " 22  LAST_TO_END              62988 non-null  int64  \n",
      " 23  AVG_INTERVAL             62988 non-null  float64\n",
      " 24  MAX_INTERVAL             62988 non-null  int64  \n",
      " 25  ADD_POINTS_SUM_YR_1      62988 non-null  int64  \n",
      " 26  ADD_POINTS_SUM_YR_2      62988 non-null  int64  \n",
      " 27  EXCHANGE_COUNT           62988 non-null  int64  \n",
      " 28  avg_discount             62988 non-null  float64\n",
      " 29  P1Y_Flight_Count         62988 non-null  int64  \n",
      " 30  L1Y_Flight_Count         62988 non-null  int64  \n",
      " 31  P1Y_BP_SUM               62988 non-null  int64  \n",
      " 32  L1Y_BP_SUM               62988 non-null  int64  \n",
      " 33  EP_SUM                   62988 non-null  int64  \n",
      " 34  ADD_Point_SUM            62988 non-null  int64  \n",
      " 35  Eli_Add_Point_Sum        62988 non-null  int64  \n",
      " 36  L1Y_ELi_Add_Points       62988 non-null  int64  \n",
      " 37  Points_Sum               62988 non-null  int64  \n",
      " 38  L1Y_Points_Sum           62988 non-null  int64  \n",
      " 39  Ration_L1Y_Flight_Count  62988 non-null  float64\n",
      " 40  Ration_P1Y_Flight_Count  62988 non-null  float64\n",
      " 41  Ration_P1Y_BPS           62988 non-null  float64\n",
      " 42  Ration_L1Y_BPS           62988 non-null  float64\n",
      " 43  Point_NotFlight          62988 non-null  int64  \n",
      "dtypes: float64(12), int64(24), object(8)\n",
      "memory usage: 21.1+ MB\n"
     ]
    }
   ],
   "source": [
    "air_data.info()"
   ]
  },
  {
   "cell_type": "markdown",
   "metadata": {},
   "source": [
    "### 2. 描述性统计分析"
   ]
  },
  {
   "cell_type": "code",
   "execution_count": 5,
   "metadata": {
    "scrolled": false
   },
   "outputs": [
    {
     "data": {
      "text/html": [
       "<div>\n",
       "<style scoped>\n",
       "    .dataframe tbody tr th:only-of-type {\n",
       "        vertical-align: middle;\n",
       "    }\n",
       "\n",
       "    .dataframe tbody tr th {\n",
       "        vertical-align: top;\n",
       "    }\n",
       "\n",
       "    .dataframe thead th {\n",
       "        text-align: right;\n",
       "    }\n",
       "</style>\n",
       "<table border=\"1\" class=\"dataframe\">\n",
       "  <thead>\n",
       "    <tr style=\"text-align: right;\">\n",
       "      <th></th>\n",
       "      <th>空值数</th>\n",
       "      <th>最大值</th>\n",
       "      <th>最小值</th>\n",
       "    </tr>\n",
       "  </thead>\n",
       "  <tbody>\n",
       "    <tr>\n",
       "      <th>MEMBER_NO</th>\n",
       "      <td>0</td>\n",
       "      <td>62988</td>\n",
       "      <td>1</td>\n",
       "    </tr>\n",
       "    <tr>\n",
       "      <th>FFP_DATE</th>\n",
       "      <td>0</td>\n",
       "      <td>NaN</td>\n",
       "      <td>NaN</td>\n",
       "    </tr>\n",
       "    <tr>\n",
       "      <th>FIRST_FLIGHT_DATE</th>\n",
       "      <td>0</td>\n",
       "      <td>NaN</td>\n",
       "      <td>NaN</td>\n",
       "    </tr>\n",
       "    <tr>\n",
       "      <th>GENDER</th>\n",
       "      <td>3</td>\n",
       "      <td>NaN</td>\n",
       "      <td>NaN</td>\n",
       "    </tr>\n",
       "    <tr>\n",
       "      <th>FFP_TIER</th>\n",
       "      <td>0</td>\n",
       "      <td>6</td>\n",
       "      <td>4</td>\n",
       "    </tr>\n",
       "    <tr>\n",
       "      <th>WORK_CITY</th>\n",
       "      <td>2269</td>\n",
       "      <td>NaN</td>\n",
       "      <td>NaN</td>\n",
       "    </tr>\n",
       "    <tr>\n",
       "      <th>WORK_PROVINCE</th>\n",
       "      <td>3248</td>\n",
       "      <td>NaN</td>\n",
       "      <td>NaN</td>\n",
       "    </tr>\n",
       "    <tr>\n",
       "      <th>WORK_COUNTRY</th>\n",
       "      <td>26</td>\n",
       "      <td>NaN</td>\n",
       "      <td>NaN</td>\n",
       "    </tr>\n",
       "    <tr>\n",
       "      <th>AGE</th>\n",
       "      <td>420</td>\n",
       "      <td>110</td>\n",
       "      <td>6</td>\n",
       "    </tr>\n",
       "    <tr>\n",
       "      <th>LOAD_TIME</th>\n",
       "      <td>0</td>\n",
       "      <td>NaN</td>\n",
       "      <td>NaN</td>\n",
       "    </tr>\n",
       "    <tr>\n",
       "      <th>FLIGHT_COUNT</th>\n",
       "      <td>0</td>\n",
       "      <td>213</td>\n",
       "      <td>2</td>\n",
       "    </tr>\n",
       "    <tr>\n",
       "      <th>BP_SUM</th>\n",
       "      <td>0</td>\n",
       "      <td>505308</td>\n",
       "      <td>0</td>\n",
       "    </tr>\n",
       "    <tr>\n",
       "      <th>EP_SUM_YR_1</th>\n",
       "      <td>0</td>\n",
       "      <td>0</td>\n",
       "      <td>0</td>\n",
       "    </tr>\n",
       "    <tr>\n",
       "      <th>EP_SUM_YR_2</th>\n",
       "      <td>0</td>\n",
       "      <td>74460</td>\n",
       "      <td>0</td>\n",
       "    </tr>\n",
       "    <tr>\n",
       "      <th>SUM_YR_1</th>\n",
       "      <td>551</td>\n",
       "      <td>239560</td>\n",
       "      <td>0</td>\n",
       "    </tr>\n",
       "    <tr>\n",
       "      <th>SUM_YR_2</th>\n",
       "      <td>138</td>\n",
       "      <td>234188</td>\n",
       "      <td>0</td>\n",
       "    </tr>\n",
       "    <tr>\n",
       "      <th>SEG_KM_SUM</th>\n",
       "      <td>0</td>\n",
       "      <td>580717</td>\n",
       "      <td>368</td>\n",
       "    </tr>\n",
       "    <tr>\n",
       "      <th>WEIGHTED_SEG_KM</th>\n",
       "      <td>0</td>\n",
       "      <td>558440</td>\n",
       "      <td>0</td>\n",
       "    </tr>\n",
       "    <tr>\n",
       "      <th>LAST_FLIGHT_DATE</th>\n",
       "      <td>0</td>\n",
       "      <td>NaN</td>\n",
       "      <td>NaN</td>\n",
       "    </tr>\n",
       "    <tr>\n",
       "      <th>AVG_FLIGHT_COUNT</th>\n",
       "      <td>0</td>\n",
       "      <td>26.625</td>\n",
       "      <td>0.25</td>\n",
       "    </tr>\n",
       "    <tr>\n",
       "      <th>AVG_BP_SUM</th>\n",
       "      <td>0</td>\n",
       "      <td>63163.5</td>\n",
       "      <td>0</td>\n",
       "    </tr>\n",
       "    <tr>\n",
       "      <th>BEGIN_TO_FIRST</th>\n",
       "      <td>0</td>\n",
       "      <td>729</td>\n",
       "      <td>0</td>\n",
       "    </tr>\n",
       "    <tr>\n",
       "      <th>LAST_TO_END</th>\n",
       "      <td>0</td>\n",
       "      <td>731</td>\n",
       "      <td>1</td>\n",
       "    </tr>\n",
       "    <tr>\n",
       "      <th>AVG_INTERVAL</th>\n",
       "      <td>0</td>\n",
       "      <td>728</td>\n",
       "      <td>0</td>\n",
       "    </tr>\n",
       "    <tr>\n",
       "      <th>MAX_INTERVAL</th>\n",
       "      <td>0</td>\n",
       "      <td>728</td>\n",
       "      <td>0</td>\n",
       "    </tr>\n",
       "    <tr>\n",
       "      <th>ADD_POINTS_SUM_YR_1</th>\n",
       "      <td>0</td>\n",
       "      <td>600000</td>\n",
       "      <td>0</td>\n",
       "    </tr>\n",
       "    <tr>\n",
       "      <th>ADD_POINTS_SUM_YR_2</th>\n",
       "      <td>0</td>\n",
       "      <td>728282</td>\n",
       "      <td>0</td>\n",
       "    </tr>\n",
       "    <tr>\n",
       "      <th>EXCHANGE_COUNT</th>\n",
       "      <td>0</td>\n",
       "      <td>46</td>\n",
       "      <td>0</td>\n",
       "    </tr>\n",
       "    <tr>\n",
       "      <th>avg_discount</th>\n",
       "      <td>0</td>\n",
       "      <td>1.5</td>\n",
       "      <td>0</td>\n",
       "    </tr>\n",
       "    <tr>\n",
       "      <th>P1Y_Flight_Count</th>\n",
       "      <td>0</td>\n",
       "      <td>118</td>\n",
       "      <td>0</td>\n",
       "    </tr>\n",
       "    <tr>\n",
       "      <th>L1Y_Flight_Count</th>\n",
       "      <td>0</td>\n",
       "      <td>111</td>\n",
       "      <td>0</td>\n",
       "    </tr>\n",
       "    <tr>\n",
       "      <th>P1Y_BP_SUM</th>\n",
       "      <td>0</td>\n",
       "      <td>246197</td>\n",
       "      <td>0</td>\n",
       "    </tr>\n",
       "    <tr>\n",
       "      <th>L1Y_BP_SUM</th>\n",
       "      <td>0</td>\n",
       "      <td>259111</td>\n",
       "      <td>0</td>\n",
       "    </tr>\n",
       "    <tr>\n",
       "      <th>EP_SUM</th>\n",
       "      <td>0</td>\n",
       "      <td>74460</td>\n",
       "      <td>0</td>\n",
       "    </tr>\n",
       "    <tr>\n",
       "      <th>ADD_Point_SUM</th>\n",
       "      <td>0</td>\n",
       "      <td>984938</td>\n",
       "      <td>0</td>\n",
       "    </tr>\n",
       "    <tr>\n",
       "      <th>Eli_Add_Point_Sum</th>\n",
       "      <td>0</td>\n",
       "      <td>984938</td>\n",
       "      <td>0</td>\n",
       "    </tr>\n",
       "    <tr>\n",
       "      <th>L1Y_ELi_Add_Points</th>\n",
       "      <td>0</td>\n",
       "      <td>728282</td>\n",
       "      <td>0</td>\n",
       "    </tr>\n",
       "    <tr>\n",
       "      <th>Points_Sum</th>\n",
       "      <td>0</td>\n",
       "      <td>985572</td>\n",
       "      <td>0</td>\n",
       "    </tr>\n",
       "    <tr>\n",
       "      <th>L1Y_Points_Sum</th>\n",
       "      <td>0</td>\n",
       "      <td>728282</td>\n",
       "      <td>0</td>\n",
       "    </tr>\n",
       "    <tr>\n",
       "      <th>Ration_L1Y_Flight_Count</th>\n",
       "      <td>0</td>\n",
       "      <td>1</td>\n",
       "      <td>0</td>\n",
       "    </tr>\n",
       "    <tr>\n",
       "      <th>Ration_P1Y_Flight_Count</th>\n",
       "      <td>0</td>\n",
       "      <td>1</td>\n",
       "      <td>0</td>\n",
       "    </tr>\n",
       "    <tr>\n",
       "      <th>Ration_P1Y_BPS</th>\n",
       "      <td>0</td>\n",
       "      <td>0.999989</td>\n",
       "      <td>0</td>\n",
       "    </tr>\n",
       "    <tr>\n",
       "      <th>Ration_L1Y_BPS</th>\n",
       "      <td>0</td>\n",
       "      <td>0.999993</td>\n",
       "      <td>0</td>\n",
       "    </tr>\n",
       "    <tr>\n",
       "      <th>Point_NotFlight</th>\n",
       "      <td>0</td>\n",
       "      <td>140</td>\n",
       "      <td>0</td>\n",
       "    </tr>\n",
       "  </tbody>\n",
       "</table>\n",
       "</div>"
      ],
      "text/plain": [
       "                          空值数       最大值   最小值\n",
       "MEMBER_NO                   0     62988     1\n",
       "FFP_DATE                    0       NaN   NaN\n",
       "FIRST_FLIGHT_DATE           0       NaN   NaN\n",
       "GENDER                      3       NaN   NaN\n",
       "FFP_TIER                    0         6     4\n",
       "WORK_CITY                2269       NaN   NaN\n",
       "WORK_PROVINCE            3248       NaN   NaN\n",
       "WORK_COUNTRY               26       NaN   NaN\n",
       "AGE                       420       110     6\n",
       "LOAD_TIME                   0       NaN   NaN\n",
       "FLIGHT_COUNT                0       213     2\n",
       "BP_SUM                      0    505308     0\n",
       "EP_SUM_YR_1                 0         0     0\n",
       "EP_SUM_YR_2                 0     74460     0\n",
       "SUM_YR_1                  551    239560     0\n",
       "SUM_YR_2                  138    234188     0\n",
       "SEG_KM_SUM                  0    580717   368\n",
       "WEIGHTED_SEG_KM             0    558440     0\n",
       "LAST_FLIGHT_DATE            0       NaN   NaN\n",
       "AVG_FLIGHT_COUNT            0    26.625  0.25\n",
       "AVG_BP_SUM                  0   63163.5     0\n",
       "BEGIN_TO_FIRST              0       729     0\n",
       "LAST_TO_END                 0       731     1\n",
       "AVG_INTERVAL                0       728     0\n",
       "MAX_INTERVAL                0       728     0\n",
       "ADD_POINTS_SUM_YR_1         0    600000     0\n",
       "ADD_POINTS_SUM_YR_2         0    728282     0\n",
       "EXCHANGE_COUNT              0        46     0\n",
       "avg_discount                0       1.5     0\n",
       "P1Y_Flight_Count            0       118     0\n",
       "L1Y_Flight_Count            0       111     0\n",
       "P1Y_BP_SUM                  0    246197     0\n",
       "L1Y_BP_SUM                  0    259111     0\n",
       "EP_SUM                      0     74460     0\n",
       "ADD_Point_SUM               0    984938     0\n",
       "Eli_Add_Point_Sum           0    984938     0\n",
       "L1Y_ELi_Add_Points          0    728282     0\n",
       "Points_Sum                  0    985572     0\n",
       "L1Y_Points_Sum              0    728282     0\n",
       "Ration_L1Y_Flight_Count     0         1     0\n",
       "Ration_P1Y_Flight_Count     0         1     0\n",
       "Ration_P1Y_BPS              0  0.999989     0\n",
       "Ration_L1Y_BPS              0  0.999993     0\n",
       "Point_NotFlight             0       140     0"
      ]
     },
     "execution_count": 5,
     "metadata": {},
     "output_type": "execute_result"
    }
   ],
   "source": [
    "explore=air_data.describe(percentiles=[],include='all').T\n",
    "explore['null']=len(air_data)-explore['count']\n",
    "explore=explore[['null','max','min']]\n",
    "explore.columns=[u'空值数',u'最大值',u'最小值']\n",
    "explore"
   ]
  },
  {
   "cell_type": "markdown",
   "metadata": {},
   "source": [
    "### 3. 分布分析"
   ]
  },
  {
   "cell_type": "markdown",
   "metadata": {},
   "source": [
    "#### (1)客户基本信息分布分析\n",
    "选取客户基本信息的入会时间、会员卡级别和年龄字段进行探索分析，探索客户的基本信息分布情况"
   ]
  },
  {
   "cell_type": "code",
   "execution_count": 6,
   "metadata": {
    "scrolled": true
   },
   "outputs": [
    {
     "data": {
      "text/plain": [
       "Text(0.5, 1.0, '各年份会员入会人数')"
      ]
     },
     "execution_count": 6,
     "metadata": {},
     "output_type": "execute_result"
    },
    {
     "data": {
      "image/png": "[encoded data removed]",
      "text/plain": [
       "<Figure size 576x360 with 1 Axes>"
      ]
     },
     "metadata": {
      "needs_background": "light"
     },
     "output_type": "display_data"
    }
   ],
   "source": [
    "from datetime import datetime\n",
    "ffp=air_data['FFP_DATE'].apply(lambda x:datetime.strptime(x,'%Y/%m/%d'))\n",
    "ffp_year=ffp.map(lambda x :x.year)\n",
    "\n",
    "fig=plt.figure(figsize=(8,5))\n",
    "plt.hist(ffp_year,bins='auto',color='blue')\n",
    "plt.xlabel('年份')\n",
    "plt.ylabel('入会人数')\n",
    "plt.title('各年份会员入会人数')"
   ]
  },
  {
   "cell_type": "code",
   "execution_count": 7,
   "metadata": {},
   "outputs": [
    {
     "data": {
      "text/plain": [
       "Text(0.5, 1.0, '会员性别比例')"
      ]
     },
     "execution_count": 7,
     "metadata": {},
     "output_type": "execute_result"
    },
    {
     "data": {
      "image/png": "[encoded data removed]",
      "text/plain": [
       "<Figure size 504x288 with 1 Axes>"
      ]
     },
     "metadata": {},
     "output_type": "display_data"
    }
   ],
   "source": [
    "# 提取会员不同性别人数\n",
    "male = pd.value_counts(air_data['GENDER'])['男']\n",
    "female = pd.value_counts(air_data['GENDER'])['女']\n",
    "\n",
    "fig = plt.figure(figsize=(7,4))\n",
    "# autopct 控制饼图内百分比设置\n",
    "plt.pie([male,female],labels=['男','女'],\n",
    "                 colors=['lightskyblue', 'lightcoral'],\n",
    "                 autopct='%1.1f%%')\n",
    "\n",
    "plt.title('会员性别比例')"
   ]
  },
  {
   "cell_type": "markdown",
   "metadata": {},
   "source": [
    "从图中可以看出从04年到12年会员入会人数逐渐增加，但到13年会员入会人数急剧减少。可以判断出该航空公司近两年发展不是很好。"
   ]
  },
  {
   "cell_type": "code",
   "execution_count": 8,
   "metadata": {
    "scrolled": true
   },
   "outputs": [
    {
     "data": {
      "text/plain": [
       "4    58066\n",
       "5     3409\n",
       "6     1513\n",
       "Name: FFP_TIER, dtype: int64"
      ]
     },
     "execution_count": 8,
     "metadata": {},
     "output_type": "execute_result"
    }
   ],
   "source": [
    "type=air_data['FFP_TIER'].value_counts()\n",
    "type"
   ]
  },
  {
   "cell_type": "code",
   "execution_count": 9,
   "metadata": {
    "scrolled": false
   },
   "outputs": [
    {
     "data": {
      "text/plain": [
       "Text(0.5, 1.0, '各个等级的会员数量')"
      ]
     },
     "execution_count": 9,
     "metadata": {},
     "output_type": "execute_result"
    },
    {
     "data": {
      "image/png": "[encoded data removed]",
      "text/plain": [
       "<Figure size 576x360 with 1 Axes>"
      ]
     },
     "metadata": {
      "needs_background": "light"
     },
     "output_type": "display_data"
    }
   ],
   "source": [
    "fig=plt.figure(figsize=(8,5))\n",
    "ax=fig.add_subplot(1,1,1)\n",
    "type.plot(kind='bar',color='blue',alpha=0.7)\n",
    "ax.set_xlabel('类别')\n",
    "ax.set_ylabel('数量')\n",
    "ax.set_title('各个等级的会员数量')"
   ]
  },
  {
   "cell_type": "markdown",
   "metadata": {},
   "source": [
    "会员等级越高说明此客户对本公司的忠诚度越高，贡献越大。从图表可以看出6级会员占比大概2.4%，5级会员占比大概5.4%，4级占比大概92.2%"
   ]
  },
  {
   "cell_type": "code",
   "execution_count": 10,
   "metadata": {
    "scrolled": true
   },
   "outputs": [
    {
     "data": {
      "image/png": "[encoded data removed]",
      "text/plain": [
       "<Figure size 360x720 with 1 Axes>"
      ]
     },
     "metadata": {
      "needs_background": "light"
     },
     "output_type": "display_data"
    }
   ],
   "source": [
    "age=air_data['AGE'].dropna()\n",
    "age=age.astype('int64')\n",
    "fig=plt.figure(figsize=(5,10))\n",
    "plt.boxplot(age,\n",
    "           patch_artist=True,\n",
    "           labels=['会员年龄'],\n",
    "           boxprops={'facecolor':'blue'})\n",
    "plt.title('会员年龄分布箱线图')\n",
    "plt.grid(axis='y')"
   ]
  },
  {
   "cell_type": "markdown",
   "metadata": {},
   "source": [
    "#### (2) 客户乘机信息分布分析"
   ]
  },
  {
   "cell_type": "code",
   "execution_count": 11,
   "metadata": {
    "scrolled": false
   },
   "outputs": [
    {
     "data": {
      "image/png": "[encoded data removed]",
      "text/plain": [
       "<Figure size 360x576 with 1 Axes>"
      ]
     },
     "metadata": {
      "needs_background": "light"
     },
     "output_type": "display_data"
    }
   ],
   "source": [
    "lte=air_data['LAST_TO_END']\n",
    "fc=air_data['FLIGHT_COUNT']\n",
    "sks=air_data['SEG_KM_SUM']\n",
    "fig=plt.figure(figsize=(5,8))\n",
    "plt.boxplot(lte,patch_artist=True,labels=['时长'],boxprops={'facecolor':'blue'})\n",
    "plt.title('会员最后乘机至统计时时间间隔分布箱线图')\n",
    "plt.grid(axis='y')"
   ]
  },
  {
   "cell_type": "markdown",
   "metadata": {},
   "source": []
  },
  {
   "cell_type": "markdown",
   "metadata": {},
   "source": [
    "绘制最后乘机时间至统计时时间间隔箱线图,由图可知: 客户的入会时长主要分布在50～300区间内，另外有一部分客户群体的入会时长分布在600以上的区间，可分为两个群体。"
   ]
  },
  {
   "cell_type": "code",
   "execution_count": 12,
   "metadata": {},
   "outputs": [
    {
     "data": {
      "image/png": "[encoded data removed]",
      "text/plain": [
       "<Figure size 360x576 with 1 Axes>"
      ]
     },
     "metadata": {
      "needs_background": "light"
     },
     "output_type": "display_data"
    }
   ],
   "source": [
    "fig=plt.figure(figsize=(5,8))\n",
    "plt.boxplot(fc,patch_artist=True,labels=['飞行次数'],boxprops={'facecolor':'lightblue'})\n",
    "plt.title('会员飞行次数分布箱线图')\n",
    "plt.grid(axis='y')"
   ]
  },
  {
   "cell_type": "code",
   "execution_count": 13,
   "metadata": {
    "scrolled": false
   },
   "outputs": [
    {
     "data": {
      "image/png": "[encoded data removed]",
      "text/plain": [
       "<Figure size 360x576 with 1 Axes>"
      ]
     },
     "metadata": {
      "needs_background": "light"
     },
     "output_type": "display_data"
    }
   ],
   "source": [
    "fig=plt.figure(figsize=(5,8))\n",
    "plt.boxplot(sks,patch_artist=True,labels=['总飞行公里数'],boxprops={'facecolor':'blue'})\n",
    "plt.title('客户总飞行公里数箱线图')\n",
    "plt.grid(axis='y')"
   ]
  },
  {
   "cell_type": "markdown",
   "metadata": {},
   "source": [
    "客户的飞行次数与总飞行公里数也明显地分为两个群体，大部分客户集中在箱型图下方的箱体中，少数客户分散分布在箱体上界的上方，这部分客户很可能是高价值客户，因为其飞行次数和总飞行公里数明显超过箱体内的其他客户"
   ]
  },
  {
   "cell_type": "code",
   "execution_count": 14,
   "metadata": {
    "scrolled": true
   },
   "outputs": [
    {
     "data": {
      "text/plain": [
       "<matplotlib.axes._subplots.AxesSubplot at 0x1e328814460>"
      ]
     },
     "execution_count": 14,
     "metadata": {},
     "output_type": "execute_result"
    },
    {
     "name": "stderr",
     "output_type": "stream",
     "text": [
      "f:\\python3.8\\lib\\site-packages\\matplotlib\\backends\\backend_agg.py:214: RuntimeWarning: Glyph 8722 missing from current font.\n",
      "  font.set_text(s, 0.0, flags=flags)\n",
      "f:\\python3.8\\lib\\site-packages\\matplotlib\\backends\\backend_agg.py:183: RuntimeWarning: Glyph 8722 missing from current font.\n",
      "  font.set_text(s, 0, flags=flags)\n"
     ]
    },
    {
     "data": {
      "image/png": "[encoded data removed]",
      "text/plain": [
       "<Figure size 1080x360 with 3 Axes>"
      ]
     },
     "metadata": {
      "needs_background": "light"
     },
     "output_type": "display_data"
    }
   ],
   "source": [
    "fig=plt.figure(figsize=(15,5))\n",
    "ax1=fig.add_subplot(1,3,1)\n",
    "sns.distplot(air_data['LAST_TO_END'])\n",
    "ax2=fig.add_subplot(1,3,2)\n",
    "sns.distplot(air_data['FLIGHT_COUNT'])\n",
    "ax3=fig.add_subplot(1,3,3)\n",
    "sns.distplot(air_data['SEG_KM_SUM'])\n"
   ]
  },
  {
   "cell_type": "markdown",
   "metadata": {},
   "source": [
    "通过观察RFM的分布，可以看到大部分乘机的时间间隔距离0-400天，乘机频率大都在0-25次以内，总飞行里程数基本上都在0-100000公里以内，少量达到150000公里."
   ]
  },
  {
   "cell_type": "markdown",
   "metadata": {},
   "source": [
    "#### 3）客户积分信息分布分析\n",
    "绘制会员兑换积分次数直方图,绝大部分客户的兑换次数在0～10的区间内，这表示大部分客户都很少进行积分兑换"
   ]
  },
  {
   "cell_type": "code",
   "execution_count": 15,
   "metadata": {},
   "outputs": [
    {
     "data": {
      "text/plain": [
       "Text(0.5, 1.0, '会员兑换积分次数分布直方图')"
      ]
     },
     "execution_count": 15,
     "metadata": {},
     "output_type": "execute_result"
    },
    {
     "data": {
      "image/png": "[encoded data removed]",
      "text/plain": [
       "<Figure size 576x360 with 1 Axes>"
      ]
     },
     "metadata": {
      "needs_background": "light"
     },
     "output_type": "display_data"
    }
   ],
   "source": [
    "# 提取会员积分兑换次数\n",
    "ec = air_data['EXCHANGE_COUNT']\n",
    "\n",
    "fig = plt.figure(figsize = (8 ,5))  # 设置画布大小\n",
    "plt.hist(ec, bins=5, color='#0504aa')\n",
    "plt.xlabel('兑换次数')\n",
    "plt.ylabel('会员人数')\n",
    "plt.title('会员兑换积分次数分布直方图')"
   ]
  },
  {
   "cell_type": "markdown",
   "metadata": {},
   "source": [
    "绘制会员总累计积分箱线图,一部分客户集中在箱体中，少部分客户分散分布在箱体上方，这部分客户的积分要明显高于箱体内的客户的积分。"
   ]
  },
  {
   "cell_type": "code",
   "execution_count": 16,
   "metadata": {},
   "outputs": [
    {
     "data": {
      "image/png": "[encoded data removed]",
      "text/plain": [
       "<Figure size 360x576 with 1 Axes>"
      ]
     },
     "metadata": {
      "needs_background": "light"
     },
     "output_type": "display_data"
    }
   ],
   "source": [
    "# 提取会员总累计积分\n",
    "ps = air_data['Points_Sum']\n",
    "\n",
    "fig = plt.figure(figsize = (5 ,8))\n",
    "plt.boxplot(ps, \n",
    "            patch_artist=True,\n",
    "            labels = ['总累计积分'],  # 设置x轴标题\n",
    "            boxprops = {'facecolor':'lightblue'})  # 设置填充颜色\n",
    "plt.title('客户总累计积分箱线图')\n",
    "# 显示y坐标轴的底线\n",
    "plt.grid(axis='y')"
   ]
  },
  {
   "cell_type": "markdown",
   "metadata": {},
   "source": [
    "### 4. 相关性分析"
   ]
  },
  {
   "cell_type": "code",
   "execution_count": 17,
   "metadata": {
    "scrolled": false
   },
   "outputs": [
    {
     "name": "stdout",
     "output_type": "stream",
     "text": [
      "相关性矩阵为：\n",
      "                 FFP_TIER  FLIGHT_COUNT  LAST_TO_END  SEG_KM_SUM  \\\n",
      "FFP_TIER        1.000000      0.582447    -0.206313    0.522350   \n",
      "FLIGHT_COUNT    0.582447      1.000000    -0.404999    0.850411   \n",
      "LAST_TO_END    -0.206313     -0.404999     1.000000   -0.369509   \n",
      "SEG_KM_SUM      0.522350      0.850411    -0.369509    1.000000   \n",
      "EXCHANGE_COUNT  0.342355      0.502501    -0.169717    0.507819   \n",
      "Points_Sum      0.559249      0.747092    -0.292027    0.853014   \n",
      "AGE             0.076245      0.075309    -0.027654    0.087285   \n",
      "ffp_year       -0.116510     -0.188181     0.117913   -0.171508   \n",
      "\n",
      "                EXCHANGE_COUNT  Points_Sum       AGE  ffp_year  \n",
      "FFP_TIER              0.342355    0.559249  0.076245 -0.116510  \n",
      "FLIGHT_COUNT          0.502501    0.747092  0.075309 -0.188181  \n",
      "LAST_TO_END          -0.169717   -0.292027 -0.027654  0.117913  \n",
      "SEG_KM_SUM            0.507819    0.853014  0.087285 -0.171508  \n",
      "EXCHANGE_COUNT        1.000000    0.578581  0.032760 -0.216610  \n",
      "Points_Sum            0.578581    1.000000  0.074887 -0.163431  \n",
      "AGE                   0.032760    0.074887  1.000000 -0.242579  \n",
      "ffp_year             -0.216610   -0.163431 -0.242579  1.000000  \n"
     ]
    },
    {
     "name": "stderr",
     "output_type": "stream",
     "text": [
      "f:\\python3.8\\lib\\site-packages\\pandas\\core\\indexing.py:845: SettingWithCopyWarning: \n",
      "A value is trying to be set on a copy of a slice from a DataFrame.\n",
      "Try using .loc[row_indexer,col_indexer] = value instead\n",
      "\n",
      "See the caveats in the documentation: https://pandas.pydata.org/pandas-docs/stable/user_guide/indexing.html#returning-a-view-versus-a-copy\n",
      "  self.obj[key] = _infer_fill_value(value)\n",
      "f:\\python3.8\\lib\\site-packages\\pandas\\core\\indexing.py:966: SettingWithCopyWarning: \n",
      "A value is trying to be set on a copy of a slice from a DataFrame.\n",
      "Try using .loc[row_indexer,col_indexer] = value instead\n",
      "\n",
      "See the caveats in the documentation: https://pandas.pydata.org/pandas-docs/stable/user_guide/indexing.html#returning-a-view-versus-a-copy\n",
      "  self.obj[item] = s\n",
      "f:\\python3.8\\lib\\site-packages\\matplotlib\\backends\\backend_agg.py:214: RuntimeWarning: Glyph 8722 missing from current font.\n",
      "  font.set_text(s, 0.0, flags=flags)\n",
      "f:\\python3.8\\lib\\site-packages\\matplotlib\\backends\\backend_agg.py:183: RuntimeWarning: Glyph 8722 missing from current font.\n",
      "  font.set_text(s, 0, flags=flags)\n"
     ]
    },
    {
     "data": {
      "text/plain": [
       "<matplotlib.axes._subplots.AxesSubplot at 0x1e3289f44c0>"
      ]
     },
     "execution_count": 17,
     "metadata": {},
     "output_type": "execute_result"
    },
    {
     "data": {
      "image/png": "[encoded data removed]",
      "text/plain": [
       "<Figure size 1080x1080 with 2 Axes>"
      ]
     },
     "metadata": {
      "needs_background": "light"
     },
     "output_type": "display_data"
    }
   ],
   "source": [
    "import seaborn as sns\n",
    "data_corr = air_data[['FFP_TIER','FLIGHT_COUNT','LAST_TO_END',\n",
    "                  'SEG_KM_SUM','EXCHANGE_COUNT','Points_Sum']]\n",
    "\n",
    "# 填充age\n",
    "age1 = air_data['AGE'].fillna(0)\n",
    "data_corr.loc[:,'AGE'] = age1.astype('int64')\n",
    "data_corr.loc[:,'ffp_year'] = ffp_year\n",
    "\n",
    "# 计算相关性矩阵\n",
    "dt_corr = data_corr.corr(method = 'pearson')\n",
    "print('相关性矩阵为：\\n',dt_corr)\n",
    "\n",
    "# 绘制热力图\n",
    "plt.subplots(figsize=(15, 15))\n",
    "sns.heatmap(dt_corr, annot=True, vmax=1, square=True, cmap='Blues')"
   ]
  },
  {
   "cell_type": "markdown",
   "metadata": {},
   "source": [
    "可以看出部分属性间具有较强的相关性，如FLIGHT_COUNT（飞行次数）属性与SEG_KM_SUM（飞行总公里数）属性；也有部分属性与其他属性的相关性都较弱，如AGE（年龄）属性与EXCHANGE_COUNT（积分兑换次数）属性。"
   ]
  },
  {
   "cell_type": "code",
   "execution_count": 18,
   "metadata": {
    "scrolled": true
   },
   "outputs": [
    {
     "data": {
      "text/html": [
       "<div>\n",
       "<style scoped>\n",
       "    .dataframe tbody tr th:only-of-type {\n",
       "        vertical-align: middle;\n",
       "    }\n",
       "\n",
       "    .dataframe tbody tr th {\n",
       "        vertical-align: top;\n",
       "    }\n",
       "\n",
       "    .dataframe thead th {\n",
       "        text-align: right;\n",
       "    }\n",
       "</style>\n",
       "<table border=\"1\" class=\"dataframe\">\n",
       "  <thead>\n",
       "    <tr style=\"text-align: right;\">\n",
       "      <th></th>\n",
       "      <th>MEMBER_NO</th>\n",
       "      <th>FFP_DATE</th>\n",
       "      <th>FIRST_FLIGHT_DATE</th>\n",
       "      <th>GENDER</th>\n",
       "      <th>FFP_TIER</th>\n",
       "      <th>WORK_CITY</th>\n",
       "      <th>WORK_PROVINCE</th>\n",
       "      <th>WORK_COUNTRY</th>\n",
       "      <th>AGE</th>\n",
       "      <th>LOAD_TIME</th>\n",
       "      <th>...</th>\n",
       "      <th>ADD_Point_SUM</th>\n",
       "      <th>Eli_Add_Point_Sum</th>\n",
       "      <th>L1Y_ELi_Add_Points</th>\n",
       "      <th>Points_Sum</th>\n",
       "      <th>L1Y_Points_Sum</th>\n",
       "      <th>Ration_L1Y_Flight_Count</th>\n",
       "      <th>Ration_P1Y_Flight_Count</th>\n",
       "      <th>Ration_P1Y_BPS</th>\n",
       "      <th>Ration_L1Y_BPS</th>\n",
       "      <th>Point_NotFlight</th>\n",
       "    </tr>\n",
       "  </thead>\n",
       "  <tbody>\n",
       "    <tr>\n",
       "      <th>13100</th>\n",
       "      <td>61198</td>\n",
       "      <td>2012/11/20</td>\n",
       "      <td>2012/11/20</td>\n",
       "      <td>女</td>\n",
       "      <td>4</td>\n",
       "      <td>玉林</td>\n",
       "      <td>广西</td>\n",
       "      <td>CN</td>\n",
       "      <td>45.0</td>\n",
       "      <td>2014/3/31</td>\n",
       "      <td>...</td>\n",
       "      <td>0</td>\n",
       "      <td>0</td>\n",
       "      <td>0</td>\n",
       "      <td>16502</td>\n",
       "      <td>15929</td>\n",
       "      <td>0.928571</td>\n",
       "      <td>0.071429</td>\n",
       "      <td>0.034721</td>\n",
       "      <td>0.965218</td>\n",
       "      <td>0</td>\n",
       "    </tr>\n",
       "    <tr>\n",
       "      <th>15262</th>\n",
       "      <td>48882</td>\n",
       "      <td>2009/1/16</td>\n",
       "      <td>2009/2/26</td>\n",
       "      <td>男</td>\n",
       "      <td>4</td>\n",
       "      <td>闽候</td>\n",
       "      <td>福建</td>\n",
       "      <td>CN</td>\n",
       "      <td>42.0</td>\n",
       "      <td>2014/3/31</td>\n",
       "      <td>...</td>\n",
       "      <td>0</td>\n",
       "      <td>0</td>\n",
       "      <td>0</td>\n",
       "      <td>13087</td>\n",
       "      <td>10960</td>\n",
       "      <td>0.812500</td>\n",
       "      <td>0.187500</td>\n",
       "      <td>0.162515</td>\n",
       "      <td>0.837408</td>\n",
       "      <td>0</td>\n",
       "    </tr>\n",
       "    <tr>\n",
       "      <th>19451</th>\n",
       "      <td>17555</td>\n",
       "      <td>2011/10/12</td>\n",
       "      <td>2011/10/12</td>\n",
       "      <td>男</td>\n",
       "      <td>4</td>\n",
       "      <td>克拉玛依</td>\n",
       "      <td>新疆</td>\n",
       "      <td>CN</td>\n",
       "      <td>38.0</td>\n",
       "      <td>2014/3/31</td>\n",
       "      <td>...</td>\n",
       "      <td>0</td>\n",
       "      <td>0</td>\n",
       "      <td>0</td>\n",
       "      <td>11591</td>\n",
       "      <td>5924</td>\n",
       "      <td>0.500000</td>\n",
       "      <td>0.500000</td>\n",
       "      <td>0.488872</td>\n",
       "      <td>0.511042</td>\n",
       "      <td>0</td>\n",
       "    </tr>\n",
       "    <tr>\n",
       "      <th>33458</th>\n",
       "      <td>16843</td>\n",
       "      <td>2010/3/16</td>\n",
       "      <td>2010/3/19</td>\n",
       "      <td>男</td>\n",
       "      <td>4</td>\n",
       "      <td>沈阳市</td>\n",
       "      <td>辽宁省</td>\n",
       "      <td>CN</td>\n",
       "      <td>55.0</td>\n",
       "      <td>2014/3/31</td>\n",
       "      <td>...</td>\n",
       "      <td>0</td>\n",
       "      <td>0</td>\n",
       "      <td>0</td>\n",
       "      <td>4172</td>\n",
       "      <td>3245</td>\n",
       "      <td>0.750000</td>\n",
       "      <td>0.250000</td>\n",
       "      <td>0.222142</td>\n",
       "      <td>0.777618</td>\n",
       "      <td>0</td>\n",
       "    </tr>\n",
       "    <tr>\n",
       "      <th>54750</th>\n",
       "      <td>25255</td>\n",
       "      <td>2012/9/26</td>\n",
       "      <td>2012/10/10</td>\n",
       "      <td>男</td>\n",
       "      <td>4</td>\n",
       "      <td>大连</td>\n",
       "      <td>辽宁</td>\n",
       "      <td>CN</td>\n",
       "      <td>46.0</td>\n",
       "      <td>2014/3/31</td>\n",
       "      <td>...</td>\n",
       "      <td>0</td>\n",
       "      <td>0</td>\n",
       "      <td>0</td>\n",
       "      <td>1700</td>\n",
       "      <td>500</td>\n",
       "      <td>0.250000</td>\n",
       "      <td>0.750000</td>\n",
       "      <td>0.705467</td>\n",
       "      <td>0.293945</td>\n",
       "      <td>0</td>\n",
       "    </tr>\n",
       "    <tr>\n",
       "      <th>...</th>\n",
       "      <td>...</td>\n",
       "      <td>...</td>\n",
       "      <td>...</td>\n",
       "      <td>...</td>\n",
       "      <td>...</td>\n",
       "      <td>...</td>\n",
       "      <td>...</td>\n",
       "      <td>...</td>\n",
       "      <td>...</td>\n",
       "      <td>...</td>\n",
       "      <td>...</td>\n",
       "      <td>...</td>\n",
       "      <td>...</td>\n",
       "      <td>...</td>\n",
       "      <td>...</td>\n",
       "      <td>...</td>\n",
       "      <td>...</td>\n",
       "      <td>...</td>\n",
       "      <td>...</td>\n",
       "      <td>...</td>\n",
       "      <td>...</td>\n",
       "    </tr>\n",
       "    <tr>\n",
       "      <th>31401</th>\n",
       "      <td>61943</td>\n",
       "      <td>2011/6/9</td>\n",
       "      <td>2011/7/1</td>\n",
       "      <td>男</td>\n",
       "      <td>4</td>\n",
       "      <td>北京</td>\n",
       "      <td>北京</td>\n",
       "      <td>CN</td>\n",
       "      <td>64.0</td>\n",
       "      <td>2014/3/31</td>\n",
       "      <td>...</td>\n",
       "      <td>0</td>\n",
       "      <td>0</td>\n",
       "      <td>0</td>\n",
       "      <td>6225</td>\n",
       "      <td>5025</td>\n",
       "      <td>0.750000</td>\n",
       "      <td>0.250000</td>\n",
       "      <td>0.192740</td>\n",
       "      <td>0.807099</td>\n",
       "      <td>0</td>\n",
       "    </tr>\n",
       "    <tr>\n",
       "      <th>1233</th>\n",
       "      <td>12298</td>\n",
       "      <td>2008/10/1</td>\n",
       "      <td>2009/1/17</td>\n",
       "      <td>男</td>\n",
       "      <td>4</td>\n",
       "      <td>SAN DIEGO，CA92129</td>\n",
       "      <td>NaN</td>\n",
       "      <td>US</td>\n",
       "      <td>57.0</td>\n",
       "      <td>2014/3/31</td>\n",
       "      <td>...</td>\n",
       "      <td>0</td>\n",
       "      <td>0</td>\n",
       "      <td>0</td>\n",
       "      <td>43426</td>\n",
       "      <td>18159</td>\n",
       "      <td>0.454545</td>\n",
       "      <td>0.545455</td>\n",
       "      <td>0.581827</td>\n",
       "      <td>0.418150</td>\n",
       "      <td>0</td>\n",
       "    </tr>\n",
       "    <tr>\n",
       "      <th>60209</th>\n",
       "      <td>24910</td>\n",
       "      <td>2012/9/30</td>\n",
       "      <td>2012/11/23</td>\n",
       "      <td>女</td>\n",
       "      <td>4</td>\n",
       "      <td>武汉</td>\n",
       "      <td>湖北</td>\n",
       "      <td>CN</td>\n",
       "      <td>30.0</td>\n",
       "      <td>2014/3/31</td>\n",
       "      <td>...</td>\n",
       "      <td>0</td>\n",
       "      <td>0</td>\n",
       "      <td>0</td>\n",
       "      <td>1111</td>\n",
       "      <td>676</td>\n",
       "      <td>0.500000</td>\n",
       "      <td>0.500000</td>\n",
       "      <td>0.391187</td>\n",
       "      <td>0.607914</td>\n",
       "      <td>0</td>\n",
       "    </tr>\n",
       "    <tr>\n",
       "      <th>37745</th>\n",
       "      <td>10031</td>\n",
       "      <td>2007/2/22</td>\n",
       "      <td>2007/3/23</td>\n",
       "      <td>男</td>\n",
       "      <td>4</td>\n",
       "      <td>佛山</td>\n",
       "      <td>广东</td>\n",
       "      <td>CN</td>\n",
       "      <td>40.0</td>\n",
       "      <td>2014/3/31</td>\n",
       "      <td>...</td>\n",
       "      <td>0</td>\n",
       "      <td>0</td>\n",
       "      <td>0</td>\n",
       "      <td>3793</td>\n",
       "      <td>0</td>\n",
       "      <td>0.000000</td>\n",
       "      <td>1.000000</td>\n",
       "      <td>0.999736</td>\n",
       "      <td>0.000000</td>\n",
       "      <td>0</td>\n",
       "    </tr>\n",
       "    <tr>\n",
       "      <th>10882</th>\n",
       "      <td>48518</td>\n",
       "      <td>2008/7/13</td>\n",
       "      <td>2008/11/9</td>\n",
       "      <td>男</td>\n",
       "      <td>4</td>\n",
       "      <td>广州</td>\n",
       "      <td>广东</td>\n",
       "      <td>CN</td>\n",
       "      <td>58.0</td>\n",
       "      <td>2014/3/31</td>\n",
       "      <td>...</td>\n",
       "      <td>0</td>\n",
       "      <td>0</td>\n",
       "      <td>0</td>\n",
       "      <td>23464</td>\n",
       "      <td>200</td>\n",
       "      <td>0.500000</td>\n",
       "      <td>0.500000</td>\n",
       "      <td>0.991434</td>\n",
       "      <td>0.008523</td>\n",
       "      <td>0</td>\n",
       "    </tr>\n",
       "  </tbody>\n",
       "</table>\n",
       "<p>1500 rows × 44 columns</p>\n",
       "</div>"
      ],
      "text/plain": [
       "       MEMBER_NO    FFP_DATE FIRST_FLIGHT_DATE GENDER  FFP_TIER  \\\n",
       "13100      61198  2012/11/20        2012/11/20      女         4   \n",
       "15262      48882   2009/1/16         2009/2/26      男         4   \n",
       "19451      17555  2011/10/12        2011/10/12      男         4   \n",
       "33458      16843   2010/3/16         2010/3/19      男         4   \n",
       "54750      25255   2012/9/26        2012/10/10      男         4   \n",
       "...          ...         ...               ...    ...       ...   \n",
       "31401      61943    2011/6/9          2011/7/1      男         4   \n",
       "1233       12298   2008/10/1         2009/1/17      男         4   \n",
       "60209      24910   2012/9/30        2012/11/23      女         4   \n",
       "37745      10031   2007/2/22         2007/3/23      男         4   \n",
       "10882      48518   2008/7/13         2008/11/9      男         4   \n",
       "\n",
       "               WORK_CITY WORK_PROVINCE WORK_COUNTRY   AGE  LOAD_TIME  ...  \\\n",
       "13100                 玉林            广西           CN  45.0  2014/3/31  ...   \n",
       "15262                 闽候            福建           CN  42.0  2014/3/31  ...   \n",
       "19451               克拉玛依            新疆           CN  38.0  2014/3/31  ...   \n",
       "33458                沈阳市           辽宁省           CN  55.0  2014/3/31  ...   \n",
       "54750                 大连            辽宁           CN  46.0  2014/3/31  ...   \n",
       "...                  ...           ...          ...   ...        ...  ...   \n",
       "31401                 北京            北京           CN  64.0  2014/3/31  ...   \n",
       "1233   SAN DIEGO，CA92129           NaN           US  57.0  2014/3/31  ...   \n",
       "60209                 武汉            湖北           CN  30.0  2014/3/31  ...   \n",
       "37745                 佛山            广东           CN  40.0  2014/3/31  ...   \n",
       "10882                 广州            广东           CN  58.0  2014/3/31  ...   \n",
       "\n",
       "       ADD_Point_SUM  Eli_Add_Point_Sum  L1Y_ELi_Add_Points  Points_Sum  \\\n",
       "13100              0                  0                   0       16502   \n",
       "15262              0                  0                   0       13087   \n",
       "19451              0                  0                   0       11591   \n",
       "33458              0                  0                   0        4172   \n",
       "54750              0                  0                   0        1700   \n",
       "...              ...                ...                 ...         ...   \n",
       "31401              0                  0                   0        6225   \n",
       "1233               0                  0                   0       43426   \n",
       "60209              0                  0                   0        1111   \n",
       "37745              0                  0                   0        3793   \n",
       "10882              0                  0                   0       23464   \n",
       "\n",
       "       L1Y_Points_Sum  Ration_L1Y_Flight_Count  Ration_P1Y_Flight_Count  \\\n",
       "13100           15929                 0.928571                 0.071429   \n",
       "15262           10960                 0.812500                 0.187500   \n",
       "19451            5924                 0.500000                 0.500000   \n",
       "33458            3245                 0.750000                 0.250000   \n",
       "54750             500                 0.250000                 0.750000   \n",
       "...               ...                      ...                      ...   \n",
       "31401            5025                 0.750000                 0.250000   \n",
       "1233            18159                 0.454545                 0.545455   \n",
       "60209             676                 0.500000                 0.500000   \n",
       "37745               0                 0.000000                 1.000000   \n",
       "10882             200                 0.500000                 0.500000   \n",
       "\n",
       "       Ration_P1Y_BPS Ration_L1Y_BPS  Point_NotFlight  \n",
       "13100        0.034721       0.965218                0  \n",
       "15262        0.162515       0.837408                0  \n",
       "19451        0.488872       0.511042                0  \n",
       "33458        0.222142       0.777618                0  \n",
       "54750        0.705467       0.293945                0  \n",
       "...               ...            ...              ...  \n",
       "31401        0.192740       0.807099                0  \n",
       "1233         0.581827       0.418150                0  \n",
       "60209        0.391187       0.607914                0  \n",
       "37745        0.999736       0.000000                0  \n",
       "10882        0.991434       0.008523                0  \n",
       "\n",
       "[1500 rows x 44 columns]"
      ]
     },
     "execution_count": 18,
     "metadata": {},
     "output_type": "execute_result"
    }
   ],
   "source": [
    "air_n_data=air_data.sample(n=1500)\n",
    "air_n_data"
   ]
  },
  {
   "cell_type": "code",
   "execution_count": 19,
   "metadata": {},
   "outputs": [
    {
     "name": "stdout",
     "output_type": "stream",
     "text": [
      "<class 'pandas.core.frame.DataFrame'>\n",
      "Int64Index: 1500 entries, 13100 to 10882\n",
      "Data columns (total 44 columns):\n",
      " #   Column                   Non-Null Count  Dtype  \n",
      "---  ------                   --------------  -----  \n",
      " 0   MEMBER_NO                1500 non-null   int64  \n",
      " 1   FFP_DATE                 1500 non-null   object \n",
      " 2   FIRST_FLIGHT_DATE        1500 non-null   object \n",
      " 3   GENDER                   1500 non-null   object \n",
      " 4   FFP_TIER                 1500 non-null   int64  \n",
      " 5   WORK_CITY                1425 non-null   object \n",
      " 6   WORK_PROVINCE            1403 non-null   object \n",
      " 7   WORK_COUNTRY             1500 non-null   object \n",
      " 8   AGE                      1493 non-null   float64\n",
      " 9   LOAD_TIME                1500 non-null   object \n",
      " 10  FLIGHT_COUNT             1500 non-null   int64  \n",
      " 11  BP_SUM                   1500 non-null   int64  \n",
      " 12  EP_SUM_YR_1              1500 non-null   int64  \n",
      " 13  EP_SUM_YR_2              1500 non-null   int64  \n",
      " 14  SUM_YR_1                 1489 non-null   float64\n",
      " 15  SUM_YR_2                 1493 non-null   float64\n",
      " 16  SEG_KM_SUM               1500 non-null   int64  \n",
      " 17  WEIGHTED_SEG_KM          1500 non-null   float64\n",
      " 18  LAST_FLIGHT_DATE         1500 non-null   object \n",
      " 19  AVG_FLIGHT_COUNT         1500 non-null   float64\n",
      " 20  AVG_BP_SUM               1500 non-null   float64\n",
      " 21  BEGIN_TO_FIRST           1500 non-null   int64  \n",
      " 22  LAST_TO_END              1500 non-null   int64  \n",
      " 23  AVG_INTERVAL             1500 non-null   float64\n",
      " 24  MAX_INTERVAL             1500 non-null   int64  \n",
      " 25  ADD_POINTS_SUM_YR_1      1500 non-null   int64  \n",
      " 26  ADD_POINTS_SUM_YR_2      1500 non-null   int64  \n",
      " 27  EXCHANGE_COUNT           1500 non-null   int64  \n",
      " 28  avg_discount             1500 non-null   float64\n",
      " 29  P1Y_Flight_Count         1500 non-null   int64  \n",
      " 30  L1Y_Flight_Count         1500 non-null   int64  \n",
      " 31  P1Y_BP_SUM               1500 non-null   int64  \n",
      " 32  L1Y_BP_SUM               1500 non-null   int64  \n",
      " 33  EP_SUM                   1500 non-null   int64  \n",
      " 34  ADD_Point_SUM            1500 non-null   int64  \n",
      " 35  Eli_Add_Point_Sum        1500 non-null   int64  \n",
      " 36  L1Y_ELi_Add_Points       1500 non-null   int64  \n",
      " 37  Points_Sum               1500 non-null   int64  \n",
      " 38  L1Y_Points_Sum           1500 non-null   int64  \n",
      " 39  Ration_L1Y_Flight_Count  1500 non-null   float64\n",
      " 40  Ration_P1Y_Flight_Count  1500 non-null   float64\n",
      " 41  Ration_P1Y_BPS           1500 non-null   float64\n",
      " 42  Ration_L1Y_BPS           1500 non-null   float64\n",
      " 43  Point_NotFlight          1500 non-null   int64  \n",
      "dtypes: float64(12), int64(24), object(8)\n",
      "memory usage: 527.3+ KB\n"
     ]
    }
   ],
   "source": [
    "air_n_data.info()"
   ]
  },
  {
   "cell_type": "markdown",
   "metadata": {},
   "source": [
    "在本案例中我借鉴RFM模型把客户分为三类，分别是\n",
    "重要价值客户，潜力客户，重点挽留客户\n",
    "\n",
    "R为LAST_TO_END最近一次乘机时间到统计时间的间隔\n",
    "F为FLIGHT_COUNT总共飞行次数\n",
    "M为SEG_KM_SUM飞行的总公里数\n",
    "\n",
    "在对数据集数据清洗过程中主要关注客户信息是否准确， LAST_TO_END、 FLIGHT_COUNT、 SEG_KM_SUM值是否有缺失。"
   ]
  },
  {
   "cell_type": "code",
   "execution_count": 20,
   "metadata": {
    "scrolled": true
   },
   "outputs": [
    {
     "name": "stdout",
     "output_type": "stream",
     "text": [
      "原始数据的形状为： (1500, 44)\n",
      "删除缺失记录后的数据形状为： (1482, 44)\n",
      "清洗后的数据形状为： (1479, 44)\n"
     ]
    }
   ],
   "source": [
    "cleanedfile='data_cleaned.csv'\n",
    "print('原始数据的形状为：',air_n_data.shape)\n",
    "air_notnull=air_n_data.loc[air_n_data['SUM_YR_1'].notnull()&air_data['SUM_YR_2'].notnull()]\n",
    "print('删除缺失记录后的数据形状为：',air_notnull.shape)\n",
    "index1=air_notnull['SUM_YR_1']!=0\n",
    "index2=air_notnull['SUM_YR_2']!=0\n",
    "index3=(air_notnull['SEG_KM_SUM']>0)&(air_notnull['avg_discount']!=0)\n",
    "index4=air_notnull['AGE']>100\n",
    "airline=air_notnull[(index1|index2)&index3&~index4]\n",
    "print('清洗后的数据形状为：',airline.shape)\n",
    "airline.to_csv(cleanedfile)"
   ]
  },
  {
   "cell_type": "code",
   "execution_count": 21,
   "metadata": {},
   "outputs": [
    {
     "data": {
      "text/html": [
       "<div>\n",
       "<style scoped>\n",
       "    .dataframe tbody tr th:only-of-type {\n",
       "        vertical-align: middle;\n",
       "    }\n",
       "\n",
       "    .dataframe tbody tr th {\n",
       "        vertical-align: top;\n",
       "    }\n",
       "\n",
       "    .dataframe thead th {\n",
       "        text-align: right;\n",
       "    }\n",
       "</style>\n",
       "<table border=\"1\" class=\"dataframe\">\n",
       "  <thead>\n",
       "    <tr style=\"text-align: right;\">\n",
       "      <th></th>\n",
       "      <th>LAST_TO_END</th>\n",
       "      <th>FLIGHT_COUNT</th>\n",
       "      <th>SEG_KM_SUM</th>\n",
       "    </tr>\n",
       "  </thead>\n",
       "  <tbody>\n",
       "    <tr>\n",
       "      <th>0</th>\n",
       "      <td>28</td>\n",
       "      <td>14</td>\n",
       "      <td>27014</td>\n",
       "    </tr>\n",
       "    <tr>\n",
       "      <th>1</th>\n",
       "      <td>17</td>\n",
       "      <td>16</td>\n",
       "      <td>20961</td>\n",
       "    </tr>\n",
       "    <tr>\n",
       "      <th>2</th>\n",
       "      <td>162</td>\n",
       "      <td>6</td>\n",
       "      <td>27112</td>\n",
       "    </tr>\n",
       "    <tr>\n",
       "      <th>3</th>\n",
       "      <td>56</td>\n",
       "      <td>4</td>\n",
       "      <td>10684</td>\n",
       "    </tr>\n",
       "    <tr>\n",
       "      <th>4</th>\n",
       "      <td>21</td>\n",
       "      <td>4</td>\n",
       "      <td>2316</td>\n",
       "    </tr>\n",
       "  </tbody>\n",
       "</table>\n",
       "</div>"
      ],
      "text/plain": [
       "   LAST_TO_END  FLIGHT_COUNT  SEG_KM_SUM\n",
       "0           28            14       27014\n",
       "1           17            16       20961\n",
       "2          162             6       27112\n",
       "3           56             4       10684\n",
       "4           21             4        2316"
      ]
     },
     "execution_count": 21,
     "metadata": {},
     "output_type": "execute_result"
    }
   ],
   "source": [
    "airline=pd.read_csv(cleanedfile,encoding='utf-8')#读取清洗之后的文件\n",
    "airline_selection=airline[['LAST_TO_END','FLIGHT_COUNT','SEG_KM_SUM']]#选取需求属性\n",
    "airline_selection.head()"
   ]
  },
  {
   "cell_type": "code",
   "execution_count": 22,
   "metadata": {
    "scrolled": true
   },
   "outputs": [
    {
     "name": "stdout",
     "output_type": "stream",
     "text": [
      "RFM属性行为：\n",
      "      R   F      M\n",
      "0   28  14  27014\n",
      "1   17  16  20961\n",
      "2  162   6  27112\n",
      "3   56   4  10684\n",
      "4   21   4   2316\n"
     ]
    }
   ],
   "source": [
    "airline_features=pd.concat([airline_selection],axis=1)\n",
    "airline_features.columns=['R','F','M']\n",
    "print('RFM属性行为：\\n',airline_features.head())"
   ]
  },
  {
   "cell_type": "code",
   "execution_count": 23,
   "metadata": {},
   "outputs": [
    {
     "data": {
      "text/plain": [
       "<matplotlib.axes._subplots.AxesSubplot at 0x1e32871bcd0>"
      ]
     },
     "execution_count": 23,
     "metadata": {},
     "output_type": "execute_result"
    },
    {
     "name": "stderr",
     "output_type": "stream",
     "text": [
      "f:\\python3.8\\lib\\site-packages\\matplotlib\\backends\\backend_agg.py:214: RuntimeWarning: Glyph 8722 missing from current font.\n",
      "  font.set_text(s, 0.0, flags=flags)\n",
      "f:\\python3.8\\lib\\site-packages\\matplotlib\\backends\\backend_agg.py:183: RuntimeWarning: Glyph 8722 missing from current font.\n",
      "  font.set_text(s, 0, flags=flags)\n"
     ]
    },
    {
     "data": {
      "image/png": "[encoded data removed]",
      "text/plain": [
       "<Figure size 1080x360 with 3 Axes>"
      ]
     },
     "metadata": {
      "needs_background": "light"
     },
     "output_type": "display_data"
    }
   ],
   "source": [
    "fig=plt.figure(figsize=(15,5))\n",
    "ax1=fig.add_subplot(1,3,1)\n",
    "sns.distplot(airline_features['R'])\n",
    "ax2=fig.add_subplot(1,3,2)\n",
    "sns.distplot(airline_features['F'])\n",
    "ax3=fig.add_subplot(1,3,3)\n",
    "sns.distplot(airline_features['M'])"
   ]
  },
  {
   "cell_type": "code",
   "execution_count": 24,
   "metadata": {},
   "outputs": [
    {
     "name": "stdout",
     "output_type": "stream",
     "text": [
      "标准化后RFM三个属性为：\n",
      " [[-0.82595692  0.15816891  0.54649942]\n",
      " [-0.88523702  0.30208267  0.22743934]\n",
      " [-0.10381759 -0.41748613  0.55166511]\n",
      " [-0.67506214 -0.5613999  -0.31427229]\n",
      " [-0.86368062 -0.5613999  -0.75535849]]\n"
     ]
    },
    {
     "data": {
      "text/plain": [
       "Text(0.5, 0, 'M')"
      ]
     },
     "execution_count": 24,
     "metadata": {},
     "output_type": "execute_result"
    },
    {
     "name": "stderr",
     "output_type": "stream",
     "text": [
      "f:\\python3.8\\lib\\site-packages\\matplotlib\\backends\\backend_agg.py:214: RuntimeWarning: Glyph 8722 missing from current font.\n",
      "  font.set_text(s, 0.0, flags=flags)\n",
      "f:\\python3.8\\lib\\site-packages\\matplotlib\\backends\\backend_agg.py:183: RuntimeWarning: Glyph 8722 missing from current font.\n",
      "  font.set_text(s, 0, flags=flags)\n"
     ]
    },
    {
     "data": {
      "image/png": "[encoded data removed]",
      "text/plain": [
       "<Figure size 432x288 with 1 Axes>"
      ]
     },
     "metadata": {
      "needs_background": "light"
     },
     "output_type": "display_data"
    }
   ],
   "source": [
    "from sklearn.preprocessing import StandardScaler\n",
    "data=StandardScaler().fit_transform(airline_features)\n",
    "np.savez('./airline_scale.npz',data)\n",
    "print('标准化后RFM三个属性为：\\n',data[:5,:])\n",
    "fig=plt.figure()\n",
    "ax=plt.axes(projection='3d')\n",
    "ax.scatter(data[:,0],data[:,1],data[:,2])\n",
    "ax.set_xlabel('R')\n",
    "ax.set_ylabel('F')\n",
    "ax.set_zlabel('M')"
   ]
  },
  {
   "cell_type": "code",
   "execution_count": 25,
   "metadata": {
    "scrolled": true
   },
   "outputs": [
    {
     "name": "stdout",
     "output_type": "stream",
     "text": [
      "          R         F         M\n",
      "0 -0.491833 -0.129659 -0.036749\n",
      "1  1.367407 -0.561400 -0.590742\n",
      "2 -0.939128  2.460789  2.568180\n",
      "各样本类别标签为\n",
      " [0. 0. 0. ... 0. 1. 0.]\n",
      "最终每个类别的数目为：\n",
      "             R         F         M   总数\n",
      "0.0 -0.491833 -0.129659 -0.036749  947\n",
      "1.0  1.367407 -0.561400 -0.590742  399\n",
      "2.0 -0.939128  2.460789  2.568180  133\n",
      "聚类之后的3d图\n",
      "\n"
     ]
    },
    {
     "name": "stderr",
     "output_type": "stream",
     "text": [
      "f:\\python3.8\\lib\\site-packages\\matplotlib\\backends\\backend_agg.py:214: RuntimeWarning: Glyph 8722 missing from current font.\n",
      "  font.set_text(s, 0.0, flags=flags)\n",
      "f:\\python3.8\\lib\\site-packages\\matplotlib\\backends\\backend_agg.py:183: RuntimeWarning: Glyph 8722 missing from current font.\n",
      "  font.set_text(s, 0, flags=flags)\n"
     ]
    },
    {
     "data": {
      "image/png": "[encoded data removed]",
      "text/plain": [
       "<Figure size 432x288 with 1 Axes>"
      ]
     },
     "metadata": {
      "needs_background": "light"
     },
     "output_type": "display_data"
    }
   ],
   "source": [
    "from sklearn.preprocessing import StandardScaler\n",
    "# 正规化数据集 X\n",
    "def normalize(X, axis=-1, p=2):\n",
    "    lp_norm = np.atleast_1d(np.linalg.norm(X, p, axis))\n",
    "    lp_norm[lp_norm == 0] = 1\n",
    "    return X / np.expand_dims(lp_norm, axis)\n",
    "\n",
    "# 计算一个样本与数据集中所有样本的欧氏距离的平方\n",
    "def euclidean_distance(one_sample, X):\n",
    "    one_sample = one_sample.reshape(1, -1)\n",
    "    X = X.reshape(X.shape[0], -1)\n",
    "    distances = np.power(np.tile(one_sample, (X.shape[0], 1)) - X, 2).sum(axis=1)\n",
    "    return distances\n",
    "\n",
    "\n",
    "class KMedoids():\n",
    "    \"\"\"\n",
    "    k-medoids聚类算法.\n",
    "\n",
    "\n",
    "    Parameters:\n",
    "    -----------\n",
    "    k: int\n",
    "        聚类簇的数目.\n",
    "    max_iterations: int\n",
    "        最大迭代次数. \n",
    "    varepsilon: float\n",
    "        判断是否收敛, 如果上一次的所有k个聚类中心与本次的所有k个聚类中心的差都小于varepsilon, \n",
    "        则说明算法已经收敛\n",
    "    \"\"\"\n",
    "    def __init__(self, k=2, max_iterations=500, varepsilon=0.0001):\n",
    "        self.k = k\n",
    "        self.max_iterations = max_iterations\n",
    "        self.varepsilon = varepsilon\n",
    "\n",
    "    # 随机初始化k个聚类中心\n",
    "    def init_random_medoids(self, X):\n",
    "        n_samples, n_features = np.shape(X)\n",
    "        medoids = np.zeros((self.k, n_features))\n",
    "        for i in range(self.k):\n",
    "            medoid = X[np.random.choice(range(n_samples))]\n",
    "            medoids[i] = medoid\n",
    "        return medoids\n",
    "\n",
    "    # 返回离该样本最近的中心的索引\n",
    "    def closest_medoid(self, sample, medoids):\n",
    "        distances = euclidean_distance(sample, medoids)\n",
    "        closest_i = np.argmin(distances)\n",
    "        return closest_i\n",
    "    \n",
    "    # 将每一个样本分配到与其最近的一个中心\n",
    "    def create_clusters(self, X, medoids):\n",
    "        clusters = [[] for _ in range(self.k)]\n",
    "        for sample_i, sample in enumerate(X):\n",
    "            medoid_i = self.closest_medoid(sample, medoids)\n",
    "            clusters[medoid_i].append(sample_i)\n",
    "        return clusters\n",
    "\n",
    "    # 计算cost (所有样本到其相应中心的距离之和)\n",
    "    def calculate_cost(self, X, clusters, medoids):\n",
    "        cost = 0\n",
    "        # For each cluster\n",
    "        for i, cluster in enumerate(clusters):\n",
    "            medoid = medoids[i]\n",
    "            cost += euclidean_distance(medoid, X[cluster]).sum()\n",
    "        return cost\n",
    "\n",
    "    # Returns a list of all samples that are not currently medoids\n",
    "    def get_X_no_medoids(self, X, medoids):\n",
    "        no_medoids = []\n",
    "        for sample in X:\n",
    "            if not sample in medoids:\n",
    "                no_medoids.append(sample)\n",
    "        return no_medoids\n",
    "\n",
    "    # 获取每个样本的label, 方法是将每个簇的索引号记做该簇中样本的label\n",
    "    def get_cluster_labels(self, clusters, X):\n",
    "        y_pred = np.zeros(np.shape(X)[0])\n",
    "        for i, cluster in enumerate(clusters):\n",
    "            y_pred[cluster] = i\n",
    "        return y_pred\n",
    "   \n",
    "    \n",
    "    # Do Partitioning Around Medoids and return the cluster labels\n",
    "    def predict(self, X):\n",
    "        # 随机初始化self.k个中心\n",
    "        medoids = self.init_random_medoids(X)\n",
    "        # 进行cluster，将整个数据集中样本分配到与其最近的中心\n",
    "        clusters = self.create_clusters(X, medoids)\n",
    "\n",
    "        # 计算初始损失 (所有样本到其相应中心的距离之和)\n",
    "        cost = self.calculate_cost(X, clusters, medoids)\n",
    "\n",
    "        # 迭代, 直到 cost 不再下降\n",
    "        for i in range(self.max_iterations):\n",
    "            best_medoids = medoids\n",
    "            lowest_cost = cost\n",
    "            # 遍历所有中心(或者簇(clusters))\n",
    "            for medoid in medoids:\n",
    "                # 获取所有非中心的样本\n",
    "                X_no_medoids = self.get_X_no_medoids(X, medoids)\n",
    "                # 遍历所有非中心的样本\n",
    "                for sample in X_no_medoids:\n",
    "                    # Swap sample with the medoid\n",
    "                    new_medoids = medoids.copy()\n",
    "                    new_medoids[medoids == medoid] = sample\n",
    "                    # 按照新的中心划分簇(clusters)\n",
    "                    new_clusters = self.create_clusters(X, new_medoids)\n",
    "                    # 计算中心更新之后的 cost\n",
    "                    new_cost = self.calculate_cost(X, new_clusters, new_medoids)\n",
    "                    # 如果中心更新之后的cost < 更新之前的cost, 则将中心, cost进行更新\n",
    "                    if new_cost < lowest_cost:\n",
    "                        lowest_cost = new_cost\n",
    "                        best_medoids = new_medoids\n",
    "            # If there was a swap that resultet in a lower cost we save the\n",
    "            # resulting medoids from the best swap and the new cost             \n",
    "            if lowest_cost < cost:\n",
    "                cost = lowest_cost\n",
    "                medoids = best_medoids\n",
    "            # Else finished\n",
    "            else:\n",
    "                break\n",
    "                \n",
    "        # 按照最终(最优)的中心再划分簇(clusters)\n",
    "        final_clusters = self.create_clusters(X, medoids)\n",
    "        final=final_clusters\n",
    "        # 按照最终(最优)的簇(clusters)获取所有样本的label\n",
    "        return self.get_cluster_labels(final_clusters, X),medoids\n",
    "\n",
    "def main():\n",
    "    # Load the dataset\n",
    "    #X, y = datasets.make_blobs(n_samples=1000, \n",
    "                               #n_features=3, \n",
    "                               #centers=[[3,3, 3], [0,0,0], [1,1,1], [2,2,2]], \n",
    "                               #cluster_std=[0.2, 0.1, 0.2, 0.2], \n",
    "                               #random_state =9)\n",
    "    # 用Kmeans算法进行聚类\n",
    "    X=data\n",
    "    clf = KMedoids(k=3)\n",
    "    y_pred,medoids= clf.predict(X)\n",
    "    global cluster_center\n",
    "    cluster_center=pd.DataFrame(medoids,columns=['R','F','M'])\n",
    "    print(cluster_center)\n",
    "    print('各样本类别标签为\\n',y_pred)\n",
    "    r1 = pd.DataFrame(y_pred,columns=['总数'])['总数'].value_counts()  # 统计不同类别样本的数目\n",
    "    result=pd.concat([cluster_center,r1],axis=1).sort_index()\n",
    "    print('最终每个类别的数目为：\\n',result)\n",
    "    # 可视化聚类效果\n",
    "    print('聚类之后的3d图\\n')\n",
    "    fig=plt.figure()\n",
    "    ax=plt.axes(projection='3d')\n",
    "    ax.scatter(X[:,0],X[:,1],X[:,2],c=y_pred)\n",
    "    ax.set_xlabel('R')\n",
    "    ax.set_ylabel('F')\n",
    "    ax.set_zlabel('M')\n",
    "    \n",
    "if __name__ == \"__main__\":\n",
    "    main()\n",
    "    "
   ]
  },
  {
   "cell_type": "code",
   "execution_count": 26,
   "metadata": {},
   "outputs": [
    {
     "name": "stderr",
     "output_type": "stream",
     "text": [
      "f:\\python3.8\\lib\\site-packages\\matplotlib\\backends\\backend_agg.py:214: RuntimeWarning: Glyph 8722 missing from current font.\n",
      "  font.set_text(s, 0.0, flags=flags)\n",
      "f:\\python3.8\\lib\\site-packages\\matplotlib\\backends\\backend_agg.py:183: RuntimeWarning: Glyph 8722 missing from current font.\n",
      "  font.set_text(s, 0, flags=flags)\n"
     ]
    },
    {
     "data": {
      "image/png": "[encoded data removed]",
      "text/plain": [
       "<Figure size 432x288 with 1 Axes>"
      ]
     },
     "metadata": {
      "needs_background": "light"
     },
     "output_type": "display_data"
    }
   ],
   "source": [
    "\n",
    "labels=cluster_center.columns.values\n",
    "kinds=list(cluster_center.index)\n",
    "result=pd.concat([cluster_center,cluster_center[[labels[0]]]],axis=1)\n",
    "\n",
    "centers=np.array(result.iloc[:,:])\n",
    "\n",
    "n=len(labels)\n",
    "angle=np.linspace(0,2*np.pi,n,endpoint=False)\n",
    "angle=np.concatenate((angle,[angle[0]]))\n",
    "\n",
    "fig=plt.figure()\n",
    "ax=fig.add_subplot(111,polar=True)\n",
    "\n",
    "for i in range(len(kinds)):\n",
    "    ax.plot(angle, centers[i], linewidth=1, label=kinds[i])\n",
    "\n",
    "ax.set_thetagrids(angle * 180/np.pi,labels)\n",
    "plt.title('客户价值雷达图')\n",
    "plt.legend(loc='lower right')\n",
    "plt.show()"
   ]
  },
  {
   "cell_type": "markdown",
   "metadata": {},
   "source": [
    "通过观察客户价值雷达图，可以发现：\n",
    "类别号为1的客户为重要价值客户，FM比较大，R比较小，说明这类客户忠诚度较高。制定营销策略时，我们可以选择把优惠力度最大的优惠方案给重要价值顾客，可以引导让这部分客户为我们带来新的客户。\n",
    "\n",
    "类别号为2的客户为潜力客户，RFM都处于中等水平。这类客户忠诚度低于重要价值客户，但又高于重点挽留客户。对于这部分客户我们可以采取调查问卷的形式调查他们对本航空公司的看法，了解他们的需求，进行改进，在促销方面可以采用梯度优惠的方法来激励他们多乘坐我们公司的航班（比如累计乘坐3次，机票打9.5折，累计8次打8.5折，15次以上打5折），激励使他们发展成重要价值客户。\n",
    "\n",
    "类别为0的客户为重点挽留客户，这部分客户可能有的已经流失，所以我们要采取措施挽留这些客户，可以通过调查问卷来了解他们对我们公司航班的意见与建议。之后针对相应的建议进行改进，可以采取发放优惠券的方式来激励他们再次乘坐本公司的航班。"
   ]
  }
 ],
 "metadata": {
  "kernelspec": {
   "display_name": "Python 3",
   "language": "python",
   "name": "python3"
  },
  "language_info": {
   "codemirror_mode": {
    "name": "ipython",
    "version": 3
   },
   "file_extension": ".py",
   "mimetype": "text/x-python",
   "name": "python",
   "nbconvert_exporter": "python",
   "pygments_lexer": "ipython3",
   "version": "3.8.2"
  }
 },
 "nbformat": 4,
 "nbformat_minor": 4
}
